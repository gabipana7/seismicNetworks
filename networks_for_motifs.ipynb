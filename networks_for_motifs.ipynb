{
 "cells": [
  {
   "cell_type": "code",
   "execution_count": 1,
   "metadata": {},
   "outputs": [],
   "source": [
    "import matplotlib.pyplot as plt\n",
    "import os\n",
    "import networkx as nx\n",
    "\n",
    "\n",
    "from sqlcollect import getTable\n",
    "from seismicZones import query\n",
    "from graph import graphCreation, graphCreation2\n",
    "from cubes import makeCubes"
   ]
  },
  {
   "cell_type": "code",
   "execution_count": null,
   "metadata": {},
   "outputs": [],
   "source": []
  },
  {
   "cell_type": "code",
   "execution_count": 2,
   "metadata": {},
   "outputs": [
    {
     "name": "stderr",
     "output_type": "stream",
     "text": [
      "/media/gabipana/hdd1/Work/PROJECTS/seismicNetworks/venv/lib/python3.8/site-packages/pandas/io/sql.py:761: UserWarning: pandas only support SQLAlchemy connectable(engine/connection) ordatabase string URI or sqlite3 DBAPI2 connectionother DBAPI2 objects are not tested, please consider using SQLAlchemy\n",
      "  warnings.warn(\n",
      "/media/gabipana/hdd1/Work/PROJECTS/seismicNetworks/venv/lib/python3.8/site-packages/pandas/io/sql.py:761: UserWarning: pandas only support SQLAlchemy connectable(engine/connection) ordatabase string URI or sqlite3 DBAPI2 connectionother DBAPI2 objects are not tested, please consider using SQLAlchemy\n",
      "  warnings.warn(\n",
      "/media/gabipana/hdd1/Work/PROJECTS/seismicNetworks/venv/lib/python3.8/site-packages/pandas/io/sql.py:761: UserWarning: pandas only support SQLAlchemy connectable(engine/connection) ordatabase string URI or sqlite3 DBAPI2 connectionother DBAPI2 objects are not tested, please consider using SQLAlchemy\n",
      "  warnings.warn(\n",
      "/media/gabipana/hdd1/Work/PROJECTS/seismicNetworks/venv/lib/python3.8/site-packages/pandas/io/sql.py:761: UserWarning: pandas only support SQLAlchemy connectable(engine/connection) ordatabase string URI or sqlite3 DBAPI2 connectionother DBAPI2 objects are not tested, please consider using SQLAlchemy\n",
      "  warnings.warn(\n",
      "/media/gabipana/hdd1/Work/PROJECTS/seismicNetworks/venv/lib/python3.8/site-packages/pandas/io/sql.py:761: UserWarning: pandas only support SQLAlchemy connectable(engine/connection) ordatabase string URI or sqlite3 DBAPI2 connectionother DBAPI2 objects are not tested, please consider using SQLAlchemy\n",
      "  warnings.warn(\n",
      "/media/gabipana/hdd1/Work/PROJECTS/seismicNetworks/venv/lib/python3.8/site-packages/pandas/io/sql.py:761: UserWarning: pandas only support SQLAlchemy connectable(engine/connection) ordatabase string URI or sqlite3 DBAPI2 connectionother DBAPI2 objects are not tested, please consider using SQLAlchemy\n",
      "  warnings.warn(\n",
      "/media/gabipana/hdd1/Work/PROJECTS/seismicNetworks/venv/lib/python3.8/site-packages/pandas/io/sql.py:761: UserWarning: pandas only support SQLAlchemy connectable(engine/connection) ordatabase string URI or sqlite3 DBAPI2 connectionother DBAPI2 objects are not tested, please consider using SQLAlchemy\n",
      "  warnings.warn(\n",
      "/media/gabipana/hdd1/Work/PROJECTS/seismicNetworks/venv/lib/python3.8/site-packages/pandas/io/sql.py:761: UserWarning: pandas only support SQLAlchemy connectable(engine/connection) ordatabase string URI or sqlite3 DBAPI2 connectionother DBAPI2 objects are not tested, please consider using SQLAlchemy\n",
      "  warnings.warn(\n"
     ]
    }
   ],
   "source": [
    "# ---------------------------SETUP AND COLLECTION OF QUAKES------------------------------------#\n",
    "# Which region do you want to analyze ?\n",
    "#region = input('Input region : vrancea / romania / california / italy / japan : ')\n",
    "\n",
    "\n",
    "\n",
    "for region in ['vrancea','california','italy','japan']:\n",
    "\t# The query for the SQL collection\n",
    "\tsql_query= query(region)\n",
    "\n",
    "\tif not os.path.exists(f'./results/{region}/networks'):\n",
    "\t\tos.makedirs(f'./results/{region}/networks')\n",
    "\n",
    "\t# Select the cube side length in km: ( 5 / 10 km)\n",
    "\tfor side in (5,10):\n",
    "\n",
    "\t\t# Select desired magnitude filter \n",
    "\t\tfor mag in (1,2,3):\n",
    "\t\t\t\n",
    "\t\t\t# Magnitude window for the query that collects the database through mySQL\n",
    "\t\t\tsql_query+=f\" AND magnitude>={mag}\"\n",
    "\n",
    "\t\t\t# Collect the earthquakes\n",
    "\t\t\tquakes = getTable(sql_query)\n",
    "\n",
    "\t\t\t# Make the Cubes\n",
    "\t\t\tquakes = makeCubes(quakes,region,side)\n",
    "\n",
    "\t\t\t# Make the network\n",
    "\t\t\tquakesGraph = graphCreation(quakes)\n",
    "\n",
    "\t\t\tnx.write_edgelist(quakesGraph, f'./results/{region}/networks/network{region}_{side}km_{mag}mag.txt', data=False)\n",
    "\n",
    "\t\t\tsql_query = sql_query.replace(f\" AND magnitude>={mag}\",'')\n",
    "\n",
    "\n",
    "\t\t#############################################################################\n",
    "\t\t# FOR VISUALIZATION PURPOSES \n",
    "\t\tmag = 4\n",
    "\t\t# Magnitude windows for the condition that collects the database through mySQL\n",
    "\t\tsql_query+=f\" AND magnitude>={mag}\"\n",
    "\n",
    "\t\t# Collect the earthquakes\n",
    "\t\tquakes = getTable(sql_query)\n",
    "\n",
    "\t\t# Make the Cubes\n",
    "\t\tquakes = makeCubes(quakes,region,side)\n",
    "\n",
    "\t\t# Make the network\n",
    "\t\tquakesGraph = graphCreation2(quakes,withEdgeWeight=True)\n",
    "\n",
    "\n",
    "\t\tsql_query = sql_query.replace(f\" AND magnitude>={mag}\",'')\n",
    "\n",
    "\n",
    "\t\tnx.write_gexf(quakesGraph,f'./results/{region}/networks/network{region}_{side}km_{mag}mag.gexf')\n",
    "\t\tnx.write_edgelist(quakesGraph, f'./results/{region}/networks/network{region}_{side}km_{mag}mag.txt', data=False)"
   ]
  },
  {
   "cell_type": "code",
   "execution_count": null,
   "metadata": {},
   "outputs": [],
   "source": []
  }
 ],
 "metadata": {
  "interpreter": {
   "hash": "3885b2b68169bbcc5c24138d8a594f3460f3ddac7a4132a4d1d891044f50ddd3"
  },
  "kernelspec": {
   "display_name": "Python 3.8.10 ('venv': venv)",
   "language": "python",
   "name": "python3"
  },
  "language_info": {
   "codemirror_mode": {
    "name": "ipython",
    "version": 3
   },
   "file_extension": ".py",
   "mimetype": "text/x-python",
   "name": "python",
   "nbconvert_exporter": "python",
   "pygments_lexer": "ipython3",
   "version": "3.8.10"
  },
  "orig_nbformat": 4
 },
 "nbformat": 4,
 "nbformat_minor": 2
}
