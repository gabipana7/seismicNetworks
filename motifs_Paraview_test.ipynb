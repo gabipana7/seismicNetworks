{
 "cells": [
  {
   "cell_type": "code",
   "execution_count": 1,
   "metadata": {},
   "outputs": [],
   "source": [
    "import vtk\n",
    "import networkx as nx\n",
    "\n",
    "import os \n",
    "\n",
    "import ast\n",
    "import numpy as np\n",
    "\n",
    "#from writeNodesEdges import writeObjects\n",
    "from writeMotifs import writeNetworksMotifs"
   ]
  },
  {
   "cell_type": "code",
   "execution_count": 2,
   "metadata": {},
   "outputs": [],
   "source": [
    "# ---------------------------SETUP AND COLLECTION OF QUAKES------------------------------------#\n",
    "# Which region do you want to analyze ?\n",
    "region = input('Input region : vrancea / romania / california / italy / japan : ')\n",
    "\n",
    "# The side of the cubes that you split the region in \n",
    "side = int(input('Input side of the cube split in km 5 / 10 / 20 - recommended = 5 : '))\n",
    "\n",
    "# Select desired magnitude threshold\n",
    "mag = int(input('Select desired magnitude threshold - recommended = 4 : '))\n",
    "\n",
    "G = nx.read_gexf(f'./results/{region}/networks/view/network{region}_{side}km_{mag}mag.gexf')\n",
    "\n",
    "\n",
    "motif = input('Input motif: Triangles (for areas) / Tetrahedrons (for volumes) : ')"
   ]
  },
  {
   "cell_type": "code",
   "execution_count": 3,
   "metadata": {},
   "outputs": [],
   "source": [
    "# Use readlines() to open the \n",
    "fileMotif = open(f'./results/{region}/networks/motifs/motifs{motif}_network{region}_{side}km_{mag}mag.txt', 'r')\n",
    "linesMotif = fileMotif.readlines()"
   ]
  },
  {
   "cell_type": "code",
   "execution_count": 4,
   "metadata": {},
   "outputs": [],
   "source": [
    "# Properly evaluate the Lines to get the Lists\n",
    "motifNodes=[]\n",
    "for item in linesMotif:\n",
    "    motifNodes.append(ast.literal_eval(item))"
   ]
  },
  {
   "cell_type": "code",
   "execution_count": 5,
   "metadata": {},
   "outputs": [],
   "source": [
    "if motif == 'Triangles':    \n",
    "    # Graph containing triangles only\n",
    "    H = nx.Graph()\n",
    "    for item in motifNodes:\n",
    "        H.add_edge(int(item[0]),int(item[1]))\n",
    "        H.add_edge(int(item[1]),int(item[2]))\n",
    "        H.add_edge(int(item[0]),int(item[2]))\n",
    "\n",
    "else:\n",
    "    # Graph containing squares only\n",
    "    H = nx.Graph()\n",
    "    for item in motifNodes:\n",
    "        H.add_edge(int(item[0]),int(item[1]))\n",
    "        H.add_edge(int(item[1]),int(item[2]))\n",
    "        H.add_edge(int(item[2]),int(item[3]))\n",
    "        H.add_edge(int(item[0]),int(item[3]))\n",
    "\n",
    "    \n",
    "# Set the triangle attribute = 0 to each edge\n",
    "nx.set_edge_attributes(G, 0, name=motif)"
   ]
  },
  {
   "cell_type": "code",
   "execution_count": null,
   "metadata": {},
   "outputs": [
    {
     "data": {
      "text/plain": [
       "NodeView(('1', '2', '3', '4', '5', '6', '7', '8', '9', '10', '11', '12', '13', '14', '15', '16', '17', '18', '19', '20', '21', '22', '23', '24', '25', '26', '27', '28', '29', '30', '31', '32', '33', '34', '35', '36', '37', '38', '39', '40', '41', '42', '43', '44', '45', '46', '47', '48', '49', '50', '51', '52', '53', '54', '55', '56', '57', '58', '59', '60', '61', '62', '63', '64', '65', '66', '67', '68', '69', '70', '71', '72', '73', '74', '75', '76', '77', '78', '79', '80', '81', '82', '83', '84', '85', '86', '87', '88', '89', '90', '91', '92', '93', '94', '95', '96', '97', '98', '99', '100', '101', '102', '103', '104', '105', '106', '107', '108', '109', '110', '111', '112', '113', '114', '115', '116', '117', '118', '119', '120', '121', '122', '123', '124', '125', '126', '127', '128', '129', '130', '131', '132', '133', '134', '135', '136', '137', '138', '139', '140', '141', '142', '143', '144', '145', '146', '147', '148', '149', '150', '151', '152', '153', '154', '155', '156', '157', '158', '159', '160', '161', '162', '163', '164', '165', '166', '167', '168', '169', '170', '171', '172', '173', '174', '175', '176', '177', '178', '179', '180', '181', '182', '183', '184', '185', '186', '187', '188', '189', '190', '191', '192', '193', '194', '195', '196', '197', '198', '199', '200', '201', '202', '203', '204', '205', '206', '207', '208', '209', '210', '211', '212', '213', '214', '215', '216', '217', '218', '219', '220', '221', '222', '223', '224', '225', '226', '227', '228', '229', '230', '231', '232', '233', '234', '235', '236', '237', '238', '239', '240', '241', '242', '243', '244', '245', '246', '247', '248', '249', '250', '251', '252', '253', '254', '255', '256', '257', '258', '259', '260', '261', '262', '263', '264'))"
      ]
     },
     "execution_count": 7,
     "metadata": {},
     "output_type": "execute_result"
    }
   ],
   "source": [
    "G.nodes()"
   ]
  },
  {
   "cell_type": "code",
   "execution_count": null,
   "metadata": {},
   "outputs": [
    {
     "data": {
      "text/plain": [
       "EdgeView([('1', '2'), ('1', '52'), ('1', '142'), ('2', '3'), ('3', '4'), ('4', '5'), ('5', '6'), ('5', '137'), ('5', '138'), ('5', '70'), ('5', '166'), ('5', '208'), ('5', '209'), ('6', '7'), ('7', '8'), ('7', '76'), ('7', '77'), ('8', '9'), ('9', '10'), ('10', '11'), ('11', '12'), ('12', '13'), ('13', '14'), ('13', '47'), ('13', '48'), ('13', '154'), ('13', '85'), ('13', '195'), ('13', '108'), ('13', '104'), ('13', '215'), ('13', '230'), ('13', '231'), ('14', '15'), ('14', '66'), ('14', '139'), ('15', '16'), ('16', '17'), ('17', '18'), ('18', '19'), ('18', '233'), ('18', '33'), ('19', '20'), ('20', '21'), ('21', '22'), ('22', '23'), ('22', '68'), ('22', '69'), ('23', '24'), ('24', '25'), ('24', '227'), ('24', '228'), ('25', '26'), ('25', '161'), ('25', '162'), ('25', '264'), ('25', '237'), ('26', '27'), ('27', '28'), ('28', '29'), ('29', '30'), ('30', '31'), ('31', '32'), ('31', '90'), ('31', '91'), ('31', '117'), ('31', '118'), ('31', '142'), ('31', '82'), ('32', '33'), ('33', '34'), ('33', '126'), ('34', '35'), ('34', '64'), ('34', '65'), ('35', '36'), ('35', '67'), ('35', '264'), ('36', '37'), ('37', '38'), ('38', '39'), ('39', '40'), ('39', '44'), ('39', '93'), ('39', '120'), ('39', '121'), ('39', '196'), ('39', '122'), ('39', '53'), ('39', '182'), ('39', '224'), ('39', '225'), ('40', '41'), ('41', '42'), ('42', '43'), ('43', '44'), ('43', '218'), ('43', '219'), ('43', '80'), ('43', '240'), ('44', '45'), ('44', '92'), ('44', '174'), ('44', '175'), ('45', '46'), ('46', '47'), ('47', '109'), ('47', '82'), ('48', '49'), ('48', '218'), ('48', '175'), ('49', '50'), ('50', '51'), ('50', '104'), ('50', '256'), ('51', '52'), ('52', '53'), ('52', '141'), ('52', '150'), ('52', '151'), ('52', '173'), ('52', '174'), ('52', '108'), ('52', '101'), ('52', '215'), ('52', '216'), ('53', '54'), ('53', '203'), ('53', '204'), ('53', '221'), ('53', '206'), ('54', '55'), ('55', '56'), ('55', '95'), ('55', '96'), ('56', '57'), ('57', '58'), ('58', '58'), ('58', '59'), ('58', '138'), ('58', '101'), ('59', '60'), ('59', '103'), ('59', '104'), ('60', '61'), ('61', '62'), ('62', '63'), ('63', '64'), ('65', '66'), ('66', '67'), ('66', '190'), ('66', '66'), ('66', '197'), ('66', '198'), ('67', '68'), ('67', '263'), ('68', '152'), ('68', '153'), ('68', '84'), ('68', '146'), ('69', '70'), ('70', '71'), ('70', '183'), ('70', '193'), ('70', '104'), ('71', '72'), ('71', '139'), ('71', '140'), ('72', '73'), ('72', '191'), ('72', '255'), ('73', '74'), ('73', '248'), ('73', '128'), ('74', '75'), ('75', '76'), ('75', '78'), ('76', '77'), ('76', '166'), ('76', '207'), ('77', '77'), ('78', '79'), ('79', '80'), ('79', '113'), ('79', '114'), ('80', '81'), ('80', '239'), ('81', '82'), ('82', '83'), ('82', '110'), ('82', '230'), ('83', '84'), ('84', '85'), ('84', '94'), ('84', '103'), ('84', '246'), ('85', '86'), ('85', '155'), ('86', '87'), ('87', '88'), ('88', '89'), ('89', '90'), ('91', '92'), ('93', '94'), ('94', '95'), ('94', '102'), ('96', '97'), ('96', '179'), ('96', '180'), ('97', '98'), ('98', '99'), ('99', '100'), ('100', '101'), ('100', '127'), ('100', '128'), ('101', '102'), ('101', '139'), ('101', '196'), ('104', '105'), ('104', '251'), ('104', '252'), ('104', '237'), ('105', '106'), ('106', '107'), ('107', '108'), ('108', '109'), ('108', '140'), ('108', '141'), ('110', '111'), ('111', '112'), ('112', '113'), ('114', '115'), ('115', '116'), ('116', '117'), ('118', '119'), ('118', '124'), ('118', '201'), ('119', '120'), ('119', '148'), ('119', '126'), ('119', '137'), ('119', '238'), ('121', '122'), ('122', '123'), ('122', '197'), ('123', '124'), ('124', '125'), ('124', '200'), ('125', '126'), ('126', '127'), ('126', '149'), ('126', '157'), ('126', '158'), ('126', '234'), ('128', '129'), ('128', '227'), ('129', '130'), ('130', '131'), ('131', '132'), ('132', '133'), ('133', '134'), ('134', '135'), ('135', '136'), ('136', '137'), ('137', '237'), ('139', '191'), ('142', '143'), ('142', '229'), ('143', '144'), ('144', '145'), ('145', '146'), ('146', '147'), ('146', '214'), ('147', '148'), ('149', '150'), ('149', '153'), ('149', '154'), ('149', '216'), ('149', '217'), ('149', '242'), ('149', '243'), ('151', '152'), ('155', '156'), ('156', '157'), ('158', '159'), ('159', '160'), ('159', '202'), ('159', '203'), ('160', '161'), ('162', '163'), ('163', '164'), ('164', '164'), ('164', '165'), ('165', '166'), ('166', '167'), ('166', '180'), ('166', '166'), ('166', '181'), ('166', '184'), ('166', '206'), ('166', '232'), ('166', '233'), ('167', '168'), ('168', '169'), ('169', '170'), ('170', '171'), ('171', '172'), ('172', '173'), ('175', '176'), ('175', '187'), ('175', '188'), ('175', '235'), ('175', '236'), ('175', '175'), ('175', '261'), ('176', '177'), ('177', '178'), ('178', '179'), ('181', '182'), ('182', '183'), ('182', '205'), ('183', '188'), ('183', '189'), ('184', '185'), ('185', '186'), ('186', '187'), ('189', '190'), ('191', '192'), ('191', '254'), ('192', '193'), ('192', '243'), ('192', '242'), ('193', '194'), ('193', '213'), ('193', '214'), ('194', '195'), ('198', '199'), ('199', '200'), ('201', '202'), ('205', '206'), ('206', '222'), ('207', '208'), ('209', '210'), ('210', '211'), ('211', '212'), ('212', '213'), ('214', '216'), ('216', '247'), ('217', '218'), ('218', '260'), ('219', '220'), ('220', '221'), ('222', '223'), ('223', '224'), ('225', '226'), ('226', '227'), ('227', '249'), ('228', '229'), ('231', '232'), ('234', '235'), ('236', '237'), ('238', '239'), ('240', '241'), ('241', '242'), ('242', '244'), ('244', '245'), ('244', '255'), ('244', '256'), ('245', '246'), ('247', '248'), ('249', '250'), ('250', '251'), ('252', '253'), ('253', '254'), ('254', '258'), ('254', '259'), ('256', '257'), ('257', '258'), ('259', '260'), ('261', '262'), ('262', '263')])"
      ]
     },
     "execution_count": 8,
     "metadata": {},
     "output_type": "execute_result"
    }
   ],
   "source": [
    "G.edges()"
   ]
  },
  {
   "cell_type": "code",
   "execution_count": null,
   "metadata": {},
   "outputs": [],
   "source": [
    "G = nx.convert_node_labels_to_integers(G,first_label=1)"
   ]
  },
  {
   "cell_type": "code",
   "execution_count": null,
   "metadata": {},
   "outputs": [
    {
     "data": {
      "text/plain": [
       "NodeView((1, 2, 3, 4, 5, 6, 7, 8, 9, 10, 11, 12, 13, 14, 15, 16, 17, 18, 19, 20, 21, 22, 23, 24, 25, 26, 27, 28, 29, 30, 31, 32, 33, 34, 35, 36, 37, 38, 39, 40, 41, 42, 43, 44, 45, 46, 47, 48, 49, 50, 51, 52, 53, 54, 55, 56, 57, 58, 59, 60, 61, 62, 63, 64, 65, 66, 67, 68, 69, 70, 71, 72, 73, 74, 75, 76, 77, 78, 79, 80, 81, 82, 83, 84, 85, 86, 87, 88, 89, 90, 91, 92, 93, 94, 95, 96, 97, 98, 99, 100, 101, 102, 103, 104, 105, 106, 107, 108, 109, 110, 111, 112, 113, 114, 115, 116, 117, 118, 119, 120, 121, 122, 123, 124, 125, 126, 127, 128, 129, 130, 131, 132, 133, 134, 135, 136, 137, 138, 139, 140, 141, 142, 143, 144, 145, 146, 147, 148, 149, 150, 151, 152, 153, 154, 155, 156, 157, 158, 159, 160, 161, 162, 163, 164, 165, 166, 167, 168, 169, 170, 171, 172, 173, 174, 175, 176, 177, 178, 179, 180, 181, 182, 183, 184, 185, 186, 187, 188, 189, 190, 191, 192, 193, 194, 195, 196, 197, 198, 199, 200, 201, 202, 203, 204, 205, 206, 207, 208, 209, 210, 211, 212, 213, 214, 215, 216, 217, 218, 219, 220, 221, 222, 223, 224, 225, 226, 227, 228, 229, 230, 231, 232, 233, 234, 235, 236, 237, 238, 239, 240, 241, 242, 243, 244, 245, 246, 247, 248, 249, 250, 251, 252, 253, 254, 255, 256, 257, 258, 259, 260, 261, 262, 263, 264))"
      ]
     },
     "execution_count": 10,
     "metadata": {},
     "output_type": "execute_result"
    }
   ],
   "source": [
    "G.nodes()"
   ]
  },
  {
   "cell_type": "code",
   "execution_count": null,
   "metadata": {},
   "outputs": [
    {
     "name": "stdout",
     "output_type": "stream",
     "text": [
      "<class 'int'>\n",
      "<class 'int'>\n",
      "<class 'int'>\n",
      "<class 'int'>\n",
      "<class 'int'>\n",
      "<class 'int'>\n",
      "<class 'int'>\n",
      "<class 'int'>\n",
      "<class 'int'>\n",
      "<class 'int'>\n",
      "<class 'int'>\n",
      "<class 'int'>\n",
      "<class 'int'>\n",
      "<class 'int'>\n",
      "<class 'int'>\n",
      "<class 'int'>\n",
      "<class 'int'>\n",
      "<class 'int'>\n",
      "<class 'int'>\n",
      "<class 'int'>\n",
      "<class 'int'>\n",
      "<class 'int'>\n",
      "<class 'int'>\n",
      "<class 'int'>\n",
      "<class 'int'>\n",
      "<class 'int'>\n",
      "<class 'int'>\n",
      "<class 'int'>\n",
      "<class 'int'>\n",
      "<class 'int'>\n",
      "<class 'int'>\n",
      "<class 'int'>\n",
      "<class 'int'>\n",
      "<class 'int'>\n",
      "<class 'int'>\n",
      "<class 'int'>\n",
      "<class 'int'>\n",
      "<class 'int'>\n",
      "<class 'int'>\n",
      "<class 'int'>\n",
      "<class 'int'>\n",
      "<class 'int'>\n",
      "<class 'int'>\n",
      "<class 'int'>\n",
      "<class 'int'>\n",
      "<class 'int'>\n",
      "<class 'int'>\n",
      "<class 'int'>\n",
      "<class 'int'>\n",
      "<class 'int'>\n",
      "<class 'int'>\n",
      "<class 'int'>\n",
      "<class 'int'>\n",
      "<class 'int'>\n",
      "<class 'int'>\n",
      "<class 'int'>\n",
      "<class 'int'>\n",
      "<class 'int'>\n",
      "<class 'int'>\n",
      "<class 'int'>\n",
      "<class 'int'>\n",
      "<class 'int'>\n",
      "<class 'int'>\n",
      "<class 'int'>\n",
      "<class 'int'>\n",
      "<class 'int'>\n",
      "<class 'int'>\n",
      "<class 'int'>\n",
      "<class 'int'>\n",
      "<class 'int'>\n",
      "<class 'int'>\n",
      "<class 'int'>\n",
      "<class 'int'>\n",
      "<class 'int'>\n",
      "<class 'int'>\n",
      "<class 'int'>\n",
      "<class 'int'>\n",
      "<class 'int'>\n",
      "<class 'int'>\n",
      "<class 'int'>\n",
      "<class 'int'>\n",
      "<class 'int'>\n",
      "<class 'int'>\n",
      "<class 'int'>\n",
      "<class 'int'>\n",
      "<class 'int'>\n",
      "<class 'int'>\n",
      "<class 'int'>\n",
      "<class 'int'>\n",
      "<class 'int'>\n",
      "<class 'int'>\n",
      "<class 'int'>\n",
      "<class 'int'>\n",
      "<class 'int'>\n",
      "<class 'int'>\n",
      "<class 'int'>\n",
      "<class 'int'>\n",
      "<class 'int'>\n",
      "<class 'int'>\n",
      "<class 'int'>\n",
      "<class 'int'>\n",
      "<class 'int'>\n",
      "<class 'int'>\n",
      "<class 'int'>\n",
      "<class 'int'>\n",
      "<class 'int'>\n",
      "<class 'int'>\n",
      "<class 'int'>\n",
      "<class 'int'>\n",
      "<class 'int'>\n",
      "<class 'int'>\n",
      "<class 'int'>\n",
      "<class 'int'>\n",
      "<class 'int'>\n",
      "<class 'int'>\n",
      "<class 'int'>\n",
      "<class 'int'>\n",
      "<class 'int'>\n",
      "<class 'int'>\n",
      "<class 'int'>\n",
      "<class 'int'>\n",
      "<class 'int'>\n",
      "<class 'int'>\n",
      "<class 'int'>\n",
      "<class 'int'>\n",
      "<class 'int'>\n",
      "<class 'int'>\n",
      "<class 'int'>\n",
      "<class 'int'>\n",
      "<class 'int'>\n",
      "<class 'int'>\n",
      "<class 'int'>\n",
      "<class 'int'>\n",
      "<class 'int'>\n",
      "<class 'int'>\n",
      "<class 'int'>\n",
      "<class 'int'>\n",
      "<class 'int'>\n",
      "<class 'int'>\n",
      "<class 'int'>\n",
      "<class 'int'>\n",
      "<class 'int'>\n",
      "<class 'int'>\n",
      "<class 'int'>\n",
      "<class 'int'>\n",
      "<class 'int'>\n",
      "<class 'int'>\n",
      "<class 'int'>\n",
      "<class 'int'>\n",
      "<class 'int'>\n",
      "<class 'int'>\n",
      "<class 'int'>\n",
      "<class 'int'>\n",
      "<class 'int'>\n",
      "<class 'int'>\n",
      "<class 'int'>\n",
      "<class 'int'>\n",
      "<class 'int'>\n",
      "<class 'int'>\n",
      "<class 'int'>\n",
      "<class 'int'>\n",
      "<class 'int'>\n",
      "<class 'int'>\n",
      "<class 'int'>\n",
      "<class 'int'>\n",
      "<class 'int'>\n",
      "<class 'int'>\n",
      "<class 'int'>\n",
      "<class 'int'>\n",
      "<class 'int'>\n",
      "<class 'int'>\n",
      "<class 'int'>\n",
      "<class 'int'>\n",
      "<class 'int'>\n",
      "<class 'int'>\n",
      "<class 'int'>\n",
      "<class 'int'>\n",
      "<class 'int'>\n",
      "<class 'int'>\n",
      "<class 'int'>\n",
      "<class 'int'>\n",
      "<class 'int'>\n",
      "<class 'int'>\n",
      "<class 'int'>\n",
      "<class 'int'>\n",
      "<class 'int'>\n",
      "<class 'int'>\n",
      "<class 'int'>\n",
      "<class 'int'>\n",
      "<class 'int'>\n",
      "<class 'int'>\n",
      "<class 'int'>\n",
      "<class 'int'>\n",
      "<class 'int'>\n",
      "<class 'int'>\n",
      "<class 'int'>\n",
      "<class 'int'>\n",
      "<class 'int'>\n",
      "<class 'int'>\n",
      "<class 'int'>\n",
      "<class 'int'>\n",
      "<class 'int'>\n",
      "<class 'int'>\n",
      "<class 'int'>\n",
      "<class 'int'>\n",
      "<class 'int'>\n",
      "<class 'int'>\n",
      "<class 'int'>\n",
      "<class 'int'>\n",
      "<class 'int'>\n",
      "<class 'int'>\n",
      "<class 'int'>\n",
      "<class 'int'>\n",
      "<class 'int'>\n",
      "<class 'int'>\n",
      "<class 'int'>\n",
      "<class 'int'>\n",
      "<class 'int'>\n",
      "<class 'int'>\n",
      "<class 'int'>\n",
      "<class 'int'>\n",
      "<class 'int'>\n",
      "<class 'int'>\n",
      "<class 'int'>\n",
      "<class 'int'>\n",
      "<class 'int'>\n",
      "<class 'int'>\n",
      "<class 'int'>\n",
      "<class 'int'>\n",
      "<class 'int'>\n",
      "<class 'int'>\n",
      "<class 'int'>\n",
      "<class 'int'>\n",
      "<class 'int'>\n",
      "<class 'int'>\n",
      "<class 'int'>\n",
      "<class 'int'>\n",
      "<class 'int'>\n",
      "<class 'int'>\n",
      "<class 'int'>\n",
      "<class 'int'>\n",
      "<class 'int'>\n",
      "<class 'int'>\n",
      "<class 'int'>\n",
      "<class 'int'>\n",
      "<class 'int'>\n",
      "<class 'int'>\n",
      "<class 'int'>\n",
      "<class 'int'>\n",
      "<class 'int'>\n",
      "<class 'int'>\n",
      "<class 'int'>\n",
      "<class 'int'>\n",
      "<class 'int'>\n",
      "<class 'int'>\n",
      "<class 'int'>\n",
      "<class 'int'>\n",
      "<class 'int'>\n",
      "<class 'int'>\n",
      "<class 'int'>\n",
      "<class 'int'>\n",
      "<class 'int'>\n",
      "<class 'int'>\n",
      "<class 'int'>\n"
     ]
    }
   ],
   "source": [
    "for node in G.nodes():\n",
    "    print(type(node))"
   ]
  },
  {
   "cell_type": "code",
   "execution_count": null,
   "metadata": {},
   "outputs": [
    {
     "name": "stdout",
     "output_type": "stream",
     "text": [
      "<class 'int'> 76\n",
      "<class 'int'> 7\n",
      "<class 'int'> 7\n",
      "<class 'int'> 108\n",
      "<class 'int'> 52\n",
      "<class 'int'> 52\n",
      "<class 'int'> 121\n",
      "<class 'int'> 39\n",
      "<class 'int'> 39\n"
     ]
    }
   ],
   "source": [
    "for (u,v) in H.edges():\n",
    "    print(type(u),v)"
   ]
  },
  {
   "cell_type": "code",
   "execution_count": null,
   "metadata": {},
   "outputs": [
    {
     "data": {
      "text/plain": [
       "AtlasView({7: {'id': '16', 'weight': 1.0, 'Triangles': 0}, 76: {'id': '177', 'weight': 1.0, 'Triangles': 0}, 77: {'id': '180', 'weight': 1.0, 'Triangles': 0}})"
      ]
     },
     "execution_count": 13,
     "metadata": {},
     "output_type": "execute_result"
    }
   ],
   "source": [
    "G[77]"
   ]
  },
  {
   "cell_type": "code",
   "execution_count": null,
   "metadata": {},
   "outputs": [
    {
     "data": {
      "text/plain": [
       "AtlasView({7: {'id': '15', 'weight': 1.0, 'Triangles': 0}, 75: {'id': '175', 'weight': 2.0, 'Triangles': 0}, 77: {'id': '177', 'weight': 1.0, 'Triangles': 0}, 166: {'id': '178', 'weight': 1.0, 'Triangles': 0}, 207: {'id': '179', 'weight': 1.0, 'Triangles': 0}})"
      ]
     },
     "execution_count": 14,
     "metadata": {},
     "output_type": "execute_result"
    }
   ],
   "source": [
    "G[76]"
   ]
  },
  {
   "cell_type": "code",
   "execution_count": null,
   "metadata": {},
   "outputs": [
    {
     "data": {
      "text/plain": [
       "{'id': '177', 'weight': 1.0, 'Triangles': 0}"
      ]
     },
     "execution_count": 15,
     "metadata": {},
     "output_type": "execute_result"
    }
   ],
   "source": [
    "G.edges[77,76]"
   ]
  },
  {
   "cell_type": "code",
   "execution_count": null,
   "metadata": {},
   "outputs": [
    {
     "name": "stdout",
     "output_type": "stream",
     "text": [
      "[(1, 2), (1, 52), (1, 142), (2, 3), (3, 4), (4, 5), (5, 6), (5, 137), (5, 138), (5, 70), (5, 166), (5, 208), (5, 209), (6, 7), (7, 8), (7, 76), (7, 77), (8, 9), (9, 10), (10, 11), (11, 12), (12, 13), (13, 14), (13, 47), (13, 48), (13, 154), (13, 85), (13, 195), (13, 108), (13, 104), (13, 215), (13, 230), (13, 231), (14, 15), (14, 66), (14, 139), (15, 16), (16, 17), (17, 18), (18, 19), (18, 233), (18, 33), (19, 20), (20, 21), (21, 22), (22, 23), (22, 68), (22, 69), (23, 24), (24, 25), (24, 227), (24, 228), (25, 26), (25, 161), (25, 162), (25, 264), (25, 237), (26, 27), (27, 28), (28, 29), (29, 30), (30, 31), (31, 32), (31, 90), (31, 91), (31, 117), (31, 118), (31, 142), (31, 82), (32, 33), (33, 34), (33, 126), (34, 35), (34, 64), (34, 65), (35, 36), (35, 67), (35, 264), (36, 37), (37, 38), (38, 39), (39, 40), (39, 44), (39, 93), (39, 120), (39, 121), (39, 196), (39, 122), (39, 53), (39, 182), (39, 224), (39, 225), (40, 41), (41, 42), (42, 43), (43, 44), (43, 218), (43, 219), (43, 80), (43, 240), (44, 45), (44, 92), (44, 174), (44, 175), (45, 46), (46, 47), (47, 109), (47, 82), (48, 49), (48, 218), (48, 175), (49, 50), (50, 51), (50, 104), (50, 256), (51, 52), (52, 53), (52, 141), (52, 150), (52, 151), (52, 173), (52, 174), (52, 108), (52, 101), (52, 215), (52, 216), (53, 54), (53, 203), (53, 204), (53, 221), (53, 206), (54, 55), (55, 56), (55, 95), (55, 96), (56, 57), (57, 58), (58, 58), (58, 59), (58, 138), (58, 101), (59, 60), (59, 103), (59, 104), (60, 61), (61, 62), (62, 63), (63, 64), (65, 66), (66, 67), (66, 190), (66, 66), (66, 197), (66, 198), (67, 68), (67, 263), (68, 152), (68, 153), (68, 84), (68, 146), (69, 70), (70, 71), (70, 183), (70, 193), (70, 104), (71, 72), (71, 139), (71, 140), (72, 73), (72, 191), (72, 255), (73, 74), (73, 248), (73, 128), (74, 75), (75, 76), (75, 78), (76, 77), (76, 166), (76, 207), (77, 77), (78, 79), (79, 80), (79, 113), (79, 114), (80, 81), (80, 239), (81, 82), (82, 83), (82, 110), (82, 230), (83, 84), (84, 85), (84, 94), (84, 103), (84, 246), (85, 86), (85, 155), (86, 87), (87, 88), (88, 89), (89, 90), (91, 92), (93, 94), (94, 95), (94, 102), (96, 97), (96, 179), (96, 180), (97, 98), (98, 99), (99, 100), (100, 101), (100, 127), (100, 128), (101, 102), (101, 139), (101, 196), (104, 105), (104, 251), (104, 252), (104, 237), (105, 106), (106, 107), (107, 108), (108, 109), (108, 140), (108, 141), (110, 111), (111, 112), (112, 113), (114, 115), (115, 116), (116, 117), (118, 119), (118, 124), (118, 201), (119, 120), (119, 148), (119, 126), (119, 137), (119, 238), (121, 122), (122, 123), (122, 197), (123, 124), (124, 125), (124, 200), (125, 126), (126, 127), (126, 149), (126, 157), (126, 158), (126, 234), (128, 129), (128, 227), (129, 130), (130, 131), (131, 132), (132, 133), (133, 134), (134, 135), (135, 136), (136, 137), (137, 237), (139, 191), (142, 143), (142, 229), (143, 144), (144, 145), (145, 146), (146, 147), (146, 214), (147, 148), (149, 150), (149, 153), (149, 154), (149, 216), (149, 217), (149, 242), (149, 243), (151, 152), (155, 156), (156, 157), (158, 159), (159, 160), (159, 202), (159, 203), (160, 161), (162, 163), (163, 164), (164, 164), (164, 165), (165, 166), (166, 167), (166, 180), (166, 166), (166, 181), (166, 184), (166, 206), (166, 232), (166, 233), (167, 168), (168, 169), (169, 170), (170, 171), (171, 172), (172, 173), (175, 176), (175, 187), (175, 188), (175, 235), (175, 236), (175, 175), (175, 261), (176, 177), (177, 178), (178, 179), (181, 182), (182, 183), (182, 205), (183, 188), (183, 189), (184, 185), (185, 186), (186, 187), (189, 190), (191, 192), (191, 254), (192, 193), (192, 243), (192, 242), (193, 194), (193, 213), (193, 214), (194, 195), (198, 199), (199, 200), (201, 202), (205, 206), (206, 222), (207, 208), (209, 210), (210, 211), (211, 212), (212, 213), (214, 216), (216, 247), (217, 218), (218, 260), (219, 220), (220, 221), (222, 223), (223, 224), (225, 226), (226, 227), (227, 249), (228, 229), (231, 232), (234, 235), (236, 237), (238, 239), (240, 241), (241, 242), (242, 244), (244, 245), (244, 255), (244, 256), (245, 246), (247, 248), (249, 250), (250, 251), (252, 253), (253, 254), (254, 258), (254, 259), (256, 257), (257, 258), (259, 260), (261, 262), (262, 263)]\n"
     ]
    }
   ],
   "source": [
    "print(G.edges())"
   ]
  },
  {
   "cell_type": "code",
   "execution_count": null,
   "metadata": {},
   "outputs": [],
   "source": [
    "# Iterate through our triangle only network edges\n",
    "for (u,v) in H.edges():\n",
    "    # Assign to original network edges the attribute triangle = 1\n",
    "    G[u][v][motif] = 1"
   ]
  },
  {
   "cell_type": "code",
   "execution_count": null,
   "metadata": {},
   "outputs": [],
   "source": [
    "# Get attributes that go into VTK function\n",
    "\n",
    "# X Y Z coords\n",
    "lat =[]\n",
    "long = []\n",
    "depth =[]\n",
    "for n in G.nodes():\n",
    "    lat.append(int(G.nodes[n]['quake_xLatitude']))\n",
    "    long.append(int(G.nodes[n]['quake_yLongitude']))\n",
    "    depth.append(int(G.nodes[n]['quake_zDepth']))\n",
    "\n",
    "minLat = min(lat)\n",
    "maxLat = max(lat)\n",
    "minLong = min(long)\n",
    "maxLong = max(long)\n",
    "minDepth = min(depth)\n",
    "maxDepth = max(depth)\n",
    "maxDimension = max(maxLat,maxLong,maxDepth)\n",
    "\n",
    "\n",
    "coords=[]\n",
    "for n in G.nodes():\n",
    "    coords.append([ np.float32(round((int(G.nodes[n]['quake_xLatitude']) - minLat)*(maxLat/maxDimension)/(maxLat-minLat),3)),\n",
    "                    np.float32(round((int(G.nodes[n]['quake_yLongitude']) - minLong)*(maxLong/maxDimension)/(maxLong-minLong),3)),\n",
    "                    np.float32(round((int(G.nodes[n]['quake_zDepth']) - minDepth)*(maxDepth/maxDimension)/(maxDepth-minDepth),3))])\n",
    "  \n",
    "# Degree of nodes edges    \n",
    "degree = [d for n, d in G.degree()]\n",
    "\n",
    "# Weight of edges\n",
    "weights = []\n",
    "for (i,j) in G.edges():\n",
    "    weights.append(G[i][j]['weight'])\n",
    "    \n",
    "# Triangle quality of edges\n",
    "motifs = []\n",
    "for (i,j) in G.edges():\n",
    "    motifs.append(G[i][j][motif])"
   ]
  },
  {
   "cell_type": "code",
   "execution_count": null,
   "metadata": {},
   "outputs": [
    {
     "data": {
      "text/plain": [
       "[['77', '76', '7'], ['141', '108', '52'], ['122', '121', '39']]"
      ]
     },
     "execution_count": 19,
     "metadata": {},
     "output_type": "execute_result"
    }
   ],
   "source": [
    "motifNodes"
   ]
  },
  {
   "cell_type": "code",
   "execution_count": null,
   "metadata": {},
   "outputs": [],
   "source": []
  },
  {
   "cell_type": "code",
   "execution_count": null,
   "metadata": {},
   "outputs": [],
   "source": [
    "\n",
    "if not os.path.exists(f'./results/{region}/networksview'):\n",
    "    os.makedirs(f'./results/{region}/networksview')\n",
    "os.chdir(f'./results/{region}/networksview')\n"
   ]
  },
  {
   "cell_type": "code",
   "execution_count": null,
   "metadata": {},
   "outputs": [],
   "source": [
    "\n",
    "# Write the VTK file that goes in Paraview\n",
    "# The network\n",
    "writeNetworksMotifs(nodeCoords=coords,\n",
    "                motifCoords=motifNodes,\n",
    "                edges=G.edges(),\n",
    "                scalar=degree, name='degree',\n",
    "                scalar2=weights, name2='weight',\n",
    "                escalar2=motifs, ename2=motif,\n",
    "#               nodeLabel=nodeLabel,\n",
    "                fileout=f'network{region}_{side}km_{mag}mag_{motif}')"
   ]
  },
  {
   "cell_type": "code",
   "execution_count": null,
   "metadata": {},
   "outputs": [],
   "source": []
  },
  {
   "cell_type": "code",
   "execution_count": null,
   "metadata": {},
   "outputs": [],
   "source": []
  },
  {
   "cell_type": "code",
   "execution_count": null,
   "metadata": {},
   "outputs": [],
   "source": []
  }
 ],
 "metadata": {
  "interpreter": {
   "hash": "3885b2b68169bbcc5c24138d8a594f3460f3ddac7a4132a4d1d891044f50ddd3"
  },
  "kernelspec": {
   "display_name": "Python 3.8.10 ('venv': venv)",
   "language": "python",
   "name": "python3"
  },
  "language_info": {
   "codemirror_mode": {
    "name": "ipython",
    "version": 3
   },
   "file_extension": ".py",
   "mimetype": "text/x-python",
   "name": "python",
   "nbconvert_exporter": "python",
   "pygments_lexer": "ipython3",
   "version": "3.8.10"
  },
  "orig_nbformat": 4
 },
 "nbformat": 4,
 "nbformat_minor": 2
}
